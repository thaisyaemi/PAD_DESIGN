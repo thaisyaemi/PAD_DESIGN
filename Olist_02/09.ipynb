{
  "nbformat": 4,
  "nbformat_minor": 0,
  "metadata": {
    "colab": {
      "provenance": [],
      "mount_file_id": "1w8TghBFRJNrsoucxDgGb9BXhgu18hQyN",
      "authorship_tag": "ABX9TyPDG2dPwX3swjWnRQ5qb7Yg",
      "include_colab_link": true
    },
    "kernelspec": {
      "name": "python3",
      "display_name": "Python 3"
    },
    "language_info": {
      "name": "python"
    }
  },
  "cells": [
    {
      "cell_type": "markdown",
      "metadata": {
        "id": "view-in-github",
        "colab_type": "text"
      },
      "source": [
        "<a href=\"https://colab.research.google.com/github/thaisyaemi/PAD_DESIGN/blob/main/Olist_02/09.ipynb\" target=\"_parent\"><img src=\"https://colab.research.google.com/assets/colab-badge.svg\" alt=\"Open In Colab\"/></a>"
      ]
    },
    {
      "cell_type": "code",
      "execution_count": 1,
      "metadata": {
        "id": "g92cU0ZdxTDN"
      },
      "outputs": [],
      "source": [
        "# Importing libraries\n",
        "import pandas as pd\n",
        "import numpy as np\n",
        "import plotly.express as px"
      ]
    },
    {
      "cell_type": "code",
      "source": [
        "## Define root path\n",
        "#root_path = r\"C:\\Users\\tono\\OneDrive - Bayer\\thais\\R  Insper\\3 trimestre\\{file}\"\n",
        "\n",
        "## Reading Olist datasets\n",
        "#df_customer = pd.read_csv(root_path.format(file=\"olist_customers_dataset.csv\")) \n",
        "#df_order_items = pd.read_csv(root_path.format(file=\"olist_order_items_dataset.csv\"))\n",
        "#df_order_payments = pd.read_csv(root_path.format(file=\"olist_order_payments_dataset.csv\"))\n",
        "#df_order_reviews = pd.read_csv(root_path.format(file=\"olist_order_reviews_dataset.csv\"))\n",
        "#df_orders = pd.read_csv(root_path.format(file=\"olist_orders_dataset.csv\"))\n",
        "#df_products = pd.read_csv(root_path.format(file=\"olist_products_dataset.csv\"))\n",
        "#df_sellers = pd.read_csv(root_path.format(file=\"olist_sellers_dataset.csv\"))\n",
        "#df_geolocation = pd.read_csv(root_path.format(file=\"olist_geolocation_dataset.csv\"))\n",
        "\n",
        "df_customer = pd.read_csv(\"/content/olist_customers_dataset.csv)"
      ],
      "metadata": {
        "colab": {
          "base_uri": "https://localhost:8080/",
          "height": 131
        },
        "id": "E9ck9frpzTWy",
        "outputId": "d70d704e-3de9-42b3-d6d8-5dc4807e4617"
      },
      "execution_count": 6,
      "outputs": [
        {
          "output_type": "error",
          "ename": "SyntaxError",
          "evalue": "ignored",
          "traceback": [
            "\u001b[0;36m  File \u001b[0;32m\"<ipython-input-6-9390a2a6e8a8>\"\u001b[0;36m, line \u001b[0;32m14\u001b[0m\n\u001b[0;31m    df_customer = pd.read_csv(\"/content/olist_customers_dataset.csv)\u001b[0m\n\u001b[0m                                                                    ^\u001b[0m\n\u001b[0;31mSyntaxError\u001b[0m\u001b[0;31m:\u001b[0m EOL while scanning string literal\n"
          ]
        }
      ]
    },
    {
      "cell_type": "code",
      "source": [],
      "metadata": {
        "id": "nx6_U_Dc097y"
      },
      "execution_count": null,
      "outputs": []
    },
    {
      "cell_type": "code",
      "source": [],
      "metadata": {
        "id": "rhQ51GVl1tKW"
      },
      "execution_count": null,
      "outputs": []
    },
    {
      "cell_type": "code",
      "source": [],
      "metadata": {
        "id": "_SndmPSk1twF"
      },
      "execution_count": null,
      "outputs": []
    },
    {
      "cell_type": "code",
      "source": [],
      "metadata": {
        "id": "87J7WzwU1uQ4"
      },
      "execution_count": null,
      "outputs": []
    }
  ]
}